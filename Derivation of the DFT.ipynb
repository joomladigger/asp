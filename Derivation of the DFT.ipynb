{
 "metadata": {
  "name": "Derivation of the DFT"
 }, 
 "nbformat": 2, 
 "worksheets": [
  {
   "cells": [
    {
     "cell_type": "markdown", 
     "source": [
      "## Geometire Series"
     ]
    }, 
    {
     "cell_type": "code", 
     "collapsed": false, 
     "input": [
      "# https://ccrma.stanford.edu/~jos/mdft/Geometric_Series.html", 
      "N = 1000", 
      "n = linspace(-pi,pi,N)", 
      "x = exp(1j*n)", 
      "print x[0:5]", 
      "", 
      "plot (real(x),imag(x))"
     ], 
     "language": "python", 
     "outputs": [
      {
       "output_type": "stream", 
       "stream": "stdout", 
       "text": [
        "[-1.00000000 -1.22460635e-16j -0.99998022 -6.28943332e-03j", 
        " -0.99992089 -1.25786178e-02j -0.99982200 -1.88673048e-02j", 
        " -0.99968356 -2.51552454e-02j]"
       ]
      }, 
      {
       "output_type": "pyout", 
       "prompt_number": 18, 
       "text": [
        "[<matplotlib.lines.Line2D at 0xab17bac>]"
       ]
      }, 
      {
       "output_type": "display_data", 
       "png": "[encoded data removed]"
      }
     ], 
     "prompt_number": 18
    }, 
    {
     "cell_type": "code", 
     "collapsed": false, 
     "input": [
      "print x[1]", 
      "print x[2]", 
      "print x[1] + x[2]", 
      "print dot(x[1],x[2])"
     ], 
     "language": "python", 
     "outputs": [
      {
       "output_type": "stream", 
       "stream": "stdout", 
       "text": [
        "(-0.999980221319-0.00628943331607j)", 
        "(-0.999920886057-0.0125786178387j)", 
        "(-1.99990110738-0.0188680511548j)", 
        "(0.999821996562+0.0188673047845j)"
       ]
      }
     ], 
     "prompt_number": 33
    }, 
    {
     "cell_type": "code", 
     "collapsed": true, 
     "input": [
      "def S(z,N):", 
      "    sum = 0", 
      "    for i in arange(N):", 
      "        sum = sum + z**i", 
      "    ", 
      "    return sum"
     ], 
     "language": "python", 
     "outputs": [], 
     "prompt_number": 23
    }, 
    {
     "cell_type": "code", 
     "collapsed": false, 
     "input": [
      "# A geometric series is the sum of a geometric sequence", 
      "print x[1]", 
      "print S(x[1],1),(1-x[1]**1)/(1-x[1])", 
      "print S(x[1],2),(1-x[1]**2)/(1-x[1])", 
      "print S(x[1],100),(1-x[1]**100)/(1-x[1])"
     ], 
     "language": "python", 
     "outputs": [
      {
       "output_type": "stream", 
       "stream": "stdout", 
       "text": [
        "(-0.999980221319-0.00628943331607j)", 
        "(1+0j) (1+0j)", 
        "(1.97786813168e-05-0.00628943331607j) (1.97786813167e-05-0.00628943331607j)", 
        "(0.0947514077692-0.294447860826j) (0.0947514077692-0.294447860826j)"
       ]
      }
     ], 
     "prompt_number": 25
    }, 
    {
     "cell_type": "markdown", 
     "source": [
      "## Orthogonality of Sinusoids", 
      "", 
      "A key property of sinusoids is that they are orthogonal at different frequencies.", 
      "", 
      "refer to: https://ccrma.stanford.edu/~jos/mdft/Orthogonality_Sinusoids.html"
     ]
    }, 
    {
     "cell_type": "code", 
     "collapsed": false, 
     "input": [
      "import numpy as np", 
      "A = .8", 
      "f1 = 1000", 
      "f2 = 1500", 
      "phi = pi/2", 
      "fs = 441000", 
      "t = arange(-.002, .002, 1.0/fs)", 
      "", 
      "# for real", 
      "sinusoid_1 = A * cos(2*np.pi*f1*t + phi)", 
      "sinusoid_2 = A * cos(2*np.pi*f2*t + phi)", 
      "", 
      "", 
      "# different frequencies, dot = 0", 
      "print dot(sinusoid_1,sinusoid_2)"
     ], 
     "language": "python", 
     "outputs": [
      {
       "output_type": "stream", 
       "stream": "stdout", 
       "text": [
        "5.67373927425e-14"
       ]
      }
     ], 
     "prompt_number": 32
    }, 
    {
     "cell_type": "code", 
     "collapsed": false, 
     "input": [
      "# for complex", 
      "sinusoid_complex_1 = A * np.exp(1j*2*np.pi*f1*t + phi)", 
      "sinusoid_complex_2 = A * np.exp(1j*2*np.pi*f2*t + phi)", 
      "", 
      "print dot(sinusoid_complex_1,sinusoid_complex_2)"
     ], 
     "language": "python", 
     "outputs": [
      {
       "output_type": "stream", 
       "stream": "stdout", 
       "text": [
        "(-4.65571602104e-10+8.4916800154e-12j)"
       ]
      }
     ], 
     "prompt_number": 34
    }, 
    {
     "cell_type": "markdown", 
     "source": [
      "## Nth Roots of Unity", 
      "", 
      "refer to: https://ccrma.stanford.edu/~jos/mdft/Nth_Roots_Unity.html"
     ]
    }, 
    {
     "cell_type": "code", 
     "collapsed": false, 
     "input": [
      "N = 8", 
      "k = arange(N+1) ", 
      "point = exp(1j*2*pi*k/N) ", 
      "", 
      "print exp(1j*2*pi*k/N)", 
      "", 
      "plot(real(point),imag(point))"
     ], 
     "language": "python", 
     "outputs": [
      {
       "output_type": "stream", 
       "stream": "stdout", 
       "text": [
        "[  1.00000000e+00 +0.00000000e+00j   7.07106781e-01 +7.07106781e-01j", 
        "   6.12303177e-17 +1.00000000e+00j  -7.07106781e-01 +7.07106781e-01j", 
        "  -1.00000000e+00 +1.22460635e-16j  -7.07106781e-01 -7.07106781e-01j", 
        "  -1.83690953e-16 -1.00000000e+00j   7.07106781e-01 -7.07106781e-01j", 
        "   1.00000000e+00 -2.44921271e-16j]"
       ]
      }, 
      {
       "output_type": "pyout", 
       "prompt_number": 42, 
       "text": [
        "[<matplotlib.lines.Line2D at 0xae94f2c>]"
       ]
      }, 
      {
       "output_type": "display_data", 
       "png": "[encoded data removed]"
      }
     ], 
     "prompt_number": 42
    }, 
    {
     "cell_type": "markdown", 
     "source": [
      "## DFT Sinusoids & Orthogonality of the DFT Sinusoids", 
      "", 
      "refer to: https://ccrma.stanford.edu/~jos/mdft/DFT_Sinusoids.html"
     ]
    }, 
    {
     "cell_type": "code", 
     "collapsed": false, 
     "input": [
      "N = 8", 
      "k = 2.", 
      "l = 3.", 
      "", 
      "n = arange(N) ", 
      "", 
      "", 
      "print k*n/N", 
      "print l*n/N", 
      "", 
      "sk = exp(1j*2*pi*k*n/N)", 
      "sl = exp(1j*2*pi*-l*n/N)", 
      "", 
      "skk = exp(1j*2*pi*-k*n/N)", 
      "print sk", 
      "", 
      "print dot(sk,skk)", 
      "print dot(sk,sl)", 
      ""
     ], 
     "language": "python", 
     "outputs": [
      {
       "output_type": "stream", 
       "stream": "stdout", 
       "text": [
        "[ 0.    0.25  0.5   0.75  1.    1.25  1.5   1.75]", 
        "[ 0.     0.375  0.75   1.125  1.5    1.875  2.25   2.625]", 
        "[  1.00000000e+00 +0.00000000e+00j   6.12303177e-17 +1.00000000e+00j", 
        "  -1.00000000e+00 +1.22460635e-16j  -1.83690953e-16 -1.00000000e+00j", 
        "   1.00000000e+00 -2.44921271e-16j   3.06151588e-16 +1.00000000e+00j", 
        "  -1.00000000e+00 +3.67381906e-16j  -4.28612224e-16 -1.00000000e+00j]", 
        "(8+0j)", 
        "(-3.31277973803e-16-1.3439228029e-15j)"
       ]
      }
     ], 
     "prompt_number": 64
    }, 
    {
     "cell_type": "markdown", 
     "source": [
      "## An Orthonormal Sinusoidal Set"
     ]
    }, 
    {
     "cell_type": "code", 
     "collapsed": false, 
     "input": [
      "N = 8", 
      "k = 2.", 
      "l = 3.", 
      "", 
      "n = arange(N) ", 
      "", 
      "sk_n_norm = exp(1j*2*pi*k*n/N) / sqrt(N)", 
      "sk_n_norm_T = exp(1j*2*pi*-k*n/N) / sqrt(N)", 
      "sk_l_norm = exp(1j*2*pi*l*n/N) / sqrt(N)", 
      "sk_l_norm_T = exp(1j*2*pi*-l*n/N) / sqrt(N)", 
      "", 
      "print dot(sk_n_norm, sk_n_norm_T)", 
      "print dot(sk_n_norm, sk_l_norm_T)"
     ], 
     "language": "python", 
     "outputs": [
      {
       "output_type": "stream", 
       "stream": "stdout", 
       "text": [
        "(1+0j)", 
        "(-4.07050153133e-17-1.8213241245e-16j)"
       ]
      }
     ], 
     "prompt_number": 67
    }, 
    {
     "cell_type": "markdown", 
     "source": [
      "## The Discrete Fourier Transform (DFT)", 
      "", 
      "refer to: https://ccrma.stanford.edu/~jos/mdft/Discrete_Fourier_Transform_DFT.html"
     ]
    }, 
    {
     "cell_type": "code", 
     "collapsed": false, 
     "input": [
      "T = 1.", 
      "N = 100.", 
      "fs = 1 / T", 
      "n = arange(N)", 
      "k = 10", 
      "l = 9", 
      "", 
      "tn = n * T", 
      "wk = 2*pi*fs*k/N", 
      "wl = 2*pi*fs*l/N", 
      "", 
      "sk = exp(1j*wk*tn)", 
      "", 
      "plot(real(sk),imag(sk))", 
      "sk_T = exp(-1j*wk*tn)", 
      "", 
      "sl = exp(1j*wl*tn)", 
      "sl_T = exp(-1j*wl*tn)", 
      "", 
      "print dot(sk,sl_T)  # k!=l, sk and sl orthogonal", 
      "print dot(sk,sk_T)  # k = l, norm of sk = N", 
      "", 
      "", 
      "", 
      "x = exp(1j*n)", 
      "print dot(x,sk_T)", 
      ""
     ], 
     "language": "python", 
     "outputs": [
      {
       "output_type": "stream", 
       "stream": "stdout", 
       "text": [
        "(-3.88490238243e-14-6.04171660618e-15j)", 
        "(100+0j)", 
        "(-1.27780381727+0.619336251927j)"
       ]
      }, 
      {
       "output_type": "display_data", 
       "png": "[encoded data removed]"
      }
     ], 
     "prompt_number": 87
    }, 
    {
     "cell_type": "code", 
     "collapsed": false, 
     "input": [
      "# The projection of $ x$ onto $ s_k$ is", 
      "proj_x_to_sk = dot(x,sk_T)/dot(sk,sk_T) * sk", 
      "", 
      "proj_x_to_sk[:10]"
     ], 
     "language": "python", 
     "outputs": [
      {
       "output_type": "pyout", 
       "prompt_number": 105, 
       "text": [
        "array([-0.01277804+0.00619336j, -0.01397802-0.00250021j,", 
        "       -0.00983887-0.01023878j, -0.00194161-0.01406649j,", 
        "        0.00669728-0.01252128j,  0.01277804-0.00619336j,", 
        "        0.01397802+0.00250021j,  0.00983887+0.01023878j,", 
        "        0.00194161+0.01406649j, -0.00669728+0.01252128j])"
       ]
      }
     ], 
     "prompt_number": 105
    }, 
    {
     "cell_type": "code", 
     "collapsed": false, 
     "input": [
      "def spectrum_of_x(N,k,x):", 
      "    # calucate the specturem of x", 
      "    n = arange(N)", 
      "    s_T = exp(-1j*2*pi*k*n)", 
      "    spec_of_x = dot(x,s_T)", 
      "    ", 
      "    return spec_of_x", 
      "", 
      "def s(N,k):", 
      "    # calculate sk", 
      "    n = arange(N)", 
      "    return exp(1j*2*pi*k*n)", 
      "", 
      "N = 100", 
      "n = arange(N)", 
      "T = 1.", 
      "fs = 1/T", 
      "tn = n*T", 
      "", 
      "x = exp(1j*n)", 
      "print x[:5]", 
      "", 
      "proj_x_to_s = {}", 
      "for k in arange(N):", 
      "    wk = 2.*pi*fs*k/N", 
      "    proj_x_to_s[k] = spectrum_of_x(N,k,x)/N * s(N,k)", 
      "", 
      "reconstructed_x = 0. + 0.j", 
      "", 
      "for k in arange(N):", 
      "    reconstructed_x = reconstructed_x + proj_x_to_s[k]", 
      "", 
      "print reconstructed_x[:5]", 
      "# what's wrong?"
     ], 
     "language": "python", 
     "outputs": [
      {
       "output_type": "stream", 
       "stream": "stdout", 
       "text": [
        "[ 1.00000000+0.j          0.54030231+0.84147098j -0.41614684+0.90929743j", 
        " -0.98999250+0.14112001j -0.65364362-0.7568025j ]", 
        "[-0.39460748+0.37919463j -0.39460748+0.37919463j -0.39460748+0.37919463j", 
        " -0.39460748+0.37919463j -0.39460748+0.37919463j]"
       ]
      }
     ], 
     "prompt_number": 112
    }, 
    {
     "cell_type": "code", 
     "collapsed": false, 
     "input": [], 
     "language": "python", 
     "outputs": [], 
     "prompt_number": 106
    }, 
    {
     "cell_type": "code", 
     "collapsed": true, 
     "input": [], 
     "language": "python", 
     "outputs": []
    }
   ]
  }
 ]
}