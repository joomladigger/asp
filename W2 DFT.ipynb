{
 "metadata": {
  "name": "W2 DFT"
 }, 
 "nbformat": 2, 
 "worksheets": [
  {
   "cells": [
    {
     "cell_type": "markdown", 
     "source": [
      "## 1. Complex exonentials", 
      "", 
      "$ s_k^* = e^{-j2\\pi kn/N} = cos(2\\pi kn/N)-jsin(2\\pi kn/N)$"
     ]
    }, 
    {
     "cell_type": "code", 
     "collapsed": false, 
     "input": [
      "# For N = 4", 
      "", 
      "N = 4", 
      "n = arange(N)", 
      "print \"n = \",n", 
      "k = arange(N)", 
      "print \"k = \",k", 
      "", 
      "sk= {}", 
      "for n in arange(N):", 
      "    sk[n] = exp(-1j*2*pi*k*n/N)", 
      "", 
      "print", 
      "print dot(sk[0],sk[1])    ", 
      "print dot(sk[0],sk[2])", 
      "print dot(sk[0],sk[3])", 
      "print dot(sk[1],sk[2])", 
      "print dot(sk[1],sk[3])", 
      "print dot(sk[2],sk[3])", 
      "print", 
      "print dot(sk[0],sk[0])"
     ], 
     "language": "python", 
     "outputs": [
      {
       "output_type": "stream", 
       "stream": "stdout", 
       "text": [
        "n =  [0 1 2 3]", 
        "k =  [0 1 2 3]", 
        "", 
        "(-1.22433530328e-16-1.22514845491e-16j)", 
        "-2.44921270764e-16j", 
        "(3.67409011201e-16-3.67381906147e-16j)", 
        "(3.67409011201e-16-3.67381906147e-16j)", 
        "(4+1.46952762459e-15j)", 
        "(-6.12276071857e-16-6.1235738702e-16j)", 
        "", 
        "(4+0j)"
       ]
      }
     ], 
     "prompt_number": 23
    }, 
    {
     "cell_type": "code", 
     "collapsed": false, 
     "input": [
      "x = [1, -1, 1, -1]", 
      "# project x to sk", 
      "for n in arange(N):", 
      "    sk[n] = exp(1j*2*pi*k*n/N)", 
      "", 
      "proj_x_sk = {}", 
      "for n in arange(N):", 
      "    proj_x_sk[n] = dot(x,sk[n])/dot(sk[n],sk[n])*sk[n]", 
      "    print proj_x_sk[n]", 
      "", 
      "print  ", 
      "reconstructed_x = sk[0] + sk[1] + sk[2] + sk[3]", 
      "print reconstructed_x", 
      "# what's wrong ??"
     ], 
     "language": "python", 
     "outputs": [
      {
       "output_type": "stream", 
       "stream": "stdout", 
       "text": [
        "[ 0.+0.j  0.+0.j  0.+0.j  0.+0.j]", 
        "[ 0.50000000-0.49988933j  0.49988933+0.5j        -0.50000000+0.49988933j", 
        " -0.49988933-0.5j       ]", 
        "[ 1. +1.83690953e-16j -1. -6.12303177e-17j  1. -6.12303177e-17j", 
        " -1. +1.83690953e-16j]", 
        "[ 0.49992622+0.50003689j  0.50003689-0.49992622j -0.49992622-0.50003689j", 
        " -0.50003689+0.49992622j]", 
        "", 
        "[  4.00000000e+00 +0.00000000e+00j  -1.83690953e-16 +2.22044605e-16j", 
        "   0.00000000e+00 +2.44921271e-16j   3.29028254e-16 +3.33066907e-16j]"
       ]
      }
     ], 
     "prompt_number": 24
    }, 
    {
     "cell_type": "code", 
     "collapsed": true, 
     "input": [], 
     "language": "python", 
     "outputs": []
    }
   ]
  }
 ]
}