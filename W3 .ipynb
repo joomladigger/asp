{
 "metadata": {
  "name": "W3 "
 }, 
 "nbformat": 2, 
 "worksheets": [
  {
   "cells": [
    {
     "cell_type": "code", 
     "collapsed": true, 
     "input": [
      "import numpy as np", 
      "import matplotlib.pyplot as plt"
     ], 
     "language": "python", 
     "outputs": [], 
     "prompt_number": 1
    }, 
    {
     "cell_type": "markdown", 
     "source": [
      "# Linearity", 
      "", 
      "$ ax_1[n] + bx_2[n] \\Leftrightarrow aX_1[k]+bX_2[k]$"
     ]
    }, 
    {
     "cell_type": "code", 
     "collapsed": false, 
     "input": [
      "%matplotlib inline", 
      "import numpy as np", 
      "import matplotlib.pyplot as plt", 
      "", 
      "plt.figure(1, figsize=(9.5, 14))", 
      "", 
      "tol = 1e-5", 
      "N = 64", 
      "", 
      "a = 3.", 
      "b = 4.", 
      "", 
      "k0 = 7", 
      "k1 = 20", 
      "", 
      "X0 = np.array([])", 
      "x0 = np.exp(1j*2*np.pi*k0/N*np.arange(N))", 
      "", 
      "X1 = np.array([])", 
      "x1 = np.exp(1j*2*np.pi*k0/N*np.arange(N))", 
      "", 
      "aX0_bX0 = np.array([])", 
      "ax0_bx0 = a*x0 + b*x1", 
      "", 
      "", 
      "", 
      "", 
      "plt.subplot(311)", 
      "plt.title('ax0_bx0, N = 64')", 
      "plt.plot(np.arange(N), np.real(ax0_bx0),'b', lw=1.5)", 
      "plt.plot(np.arange(N), np.imag(ax0_bx0),'g', lw=1.5)", 
      "plt.axis([0,N-1,-1,1])", 
      "", 
      "for k in range(N):", 
      "    s = np.exp(1j*2*np.pi*k/N*np.arange(N))", 
      "    aX0_bX0 = np.append(aX0_bX0, sum(ax0_bx0*np.conjugate(s))) ", 
      "    X0 = np.append(X0, sum(x0*np.conjugate(s)))", 
      "    X1 = np.append(X1, sum(x1*np.conjugate(s)))", 
      "        ", 
      "print len(X0),len(X1)", 
      "        ", 
      "        ", 
      "", 
      "plt.subplot(312)", 
      "plt.title('magnitude spectrum: abs(aX0_bX0)')", 
      "plt.plot(np.arange(N), abs(aX0_bX0), 'r', lw=1.5)", 
      "plt.axis([0,N-1,0,N])", 
      "", 
      "", 
      "", 
      "plt.subplot(313)", 
      "plt.title('magnitude spectrum: a*abs(X0)+b*abs(X1)')", 
      "plt.plot(np.arange(N), a*abs(X0)+b*abs(X1), 'r', lw=1.5)", 
      "plt.axis([0,N-1,0,N])", 
      "", 
      "plt.tight_layout()"
     ], 
     "language": "python", 
     "outputs": [
      {
       "output_type": "stream", 
       "stream": "stdout", 
       "text": [
        "64 64"
       ]
      }, 
      {
       "output_type": "stream", 
       "stream": "stderr", 
       "text": [
        "ERROR: Magic function `matplotlib` not found."
       ]
      }
     ], 
     "prompt_number": 11
    }, 
    {
     "cell_type": "code", 
     "collapsed": true, 
     "input": [], 
     "language": "python", 
     "outputs": []
    }
   ]
  }
 ]
}